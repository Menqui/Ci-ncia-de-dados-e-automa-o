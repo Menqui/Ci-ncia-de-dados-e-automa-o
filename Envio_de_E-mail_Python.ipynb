{
  "cells": [
    {
      "cell_type": "code",
      "source": [
        "import smtplib\n",
        "import email.message\n",
        "\n",
        "def enviar_email():  \n",
        "    corpo_email = \"\"\"\n",
        "    <p>Teste de automatização</p>\n",
        "    <p>tipo e-mail</p>\n",
        "    \"\"\"\n",
        "\n",
        "    msg = email.message.Message()\n",
        "    msg['Subject'] = \"Assunto\"\n",
        "    msg['From'] = 'remetente'\n",
        "    msg['To'] = 'quem recebe o email'\n",
        "\n",
        "    #senha usada é senha de app configurada no google\n",
        "    #pode ser usado por qualquer conta já que é seguro\n",
        "    password = 'senha de app' \n",
        "    #faz o corpo_email funcionar no padrão html\n",
        "    msg.add_header('Content-Type', 'text/html')\n",
        "    msg.set_payload(corpo_email )\n",
        "\n",
        "    s = smtplib.SMTP('smtp.gmail.com: 587')\n",
        "    s.starttls()\n",
        "    # Login e credenciais para enviar email\n",
        "    s.login(msg['From'], password)\n",
        "    s.sendmail(msg['From'], [msg['To']], msg.as_string().encode('utf-8'))\n",
        "    print('Email enviado')"
      ],
      "metadata": {
        "id": "DhNaBTziKl5R"
      },
      "execution_count": 1,
      "outputs": []
    },
    {
      "cell_type": "code",
      "source": [
        "enviar_email()"
      ],
      "metadata": {
        "id": "hLCP7c3uKmU6",
        "outputId": "c0a94867-54a0-4427-a6d9-8c8284392ea3",
        "colab": {
          "base_uri": "https://localhost:8080/"
        }
      },
      "execution_count": 2,
      "outputs": [
        {
          "output_type": "stream",
          "name": "stdout",
          "text": [
            "Email enviado\n"
          ]
        }
      ]
    }
  ],
  "metadata": {
    "colab": {
      "name": "Olá, este é o Colaboratory",
      "toc_visible": true,
      "provenance": []
    },
    "kernelspec": {
      "display_name": "Python 3",
      "name": "python3"
    }
  },
  "nbformat": 4,
  "nbformat_minor": 0
}
